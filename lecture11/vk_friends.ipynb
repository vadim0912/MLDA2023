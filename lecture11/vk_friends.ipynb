{
 "cells": [
  {
   "cell_type": "markdown",
   "id": "171043b3",
   "metadata": {},
   "source": [
    "<center><img src=\"images/header1.png\" width=400></center>\n",
    "<h1><center>Основы машинного обучения</center></h1>\n",
    "<hr>\n",
    "<h2><center>Анализ графов и социальных сетей</center></h2>\n",
    "<h3><center>Ефимов Владислав</center></h3>"
   ]
  },
  {
   "cell_type": "code",
   "execution_count": null,
   "id": "5a662a8b",
   "metadata": {},
   "outputs": [],
   "source": [
    "!pip install vk"
   ]
  },
  {
   "cell_type": "code",
   "execution_count": null,
   "id": "7dad5e8b",
   "metadata": {},
   "outputs": [],
   "source": [
    "import vk\n",
    "import json\n",
    "import os"
   ]
  },
  {
   "cell_type": "markdown",
   "id": "9dfece5a",
   "metadata": {},
   "source": [
    "Сначала получаем токен:\n",
    "* Нужно [создать](https://vk.com/apps?act=manage) свое тестовое приложение.\n",
    "* Включить, сделать публичным (в настройках).\n",
    "* Авторизоваться: из настроек скопировать client_id (ID приложения), вставить в параметр client_id вместо 0 и перейти по получившейся ссылке в браузере. В данном случае мы используем scope=friends, его нам будет достаточно, однако можно получить доступ ко всем необходимым частям аккаунта, список скоупов можно найти [тут](https://dev.vk.com/reference/access-rights).\n",
    "> ```https://oauth.vk.com/authorize?client_id=0&display=page&redirect_uri=http://oauth.vk.com/blank.html&scope=friends&response_type=token```\n",
    "* Скопировать значение поля access_token из обновленной адресной строки (если вы авторизованы уже были в браузере в вк, то вас сразу средиректит, иначе надо будет сначала залогиниться).\n",
    "* <b>!!! Не светите нигде полученный токен, по нему можно получить полный доступ к аккаунту!!!</b>\n",
    "* Важный момент: токен не заработает в колабе и скорее всего в ноутбуке на внешнем сервере, так как он привязывается к ip адресу, где он был выдан."
   ]
  },
  {
   "cell_type": "code",
   "execution_count": null,
   "id": "7ba16dbc",
   "metadata": {},
   "outputs": [],
   "source": [
    "token = \"\""
   ]
  },
  {
   "cell_type": "code",
   "execution_count": null,
   "id": "cbc74484",
   "metadata": {},
   "outputs": [],
   "source": [
    "api = vk.API(access_token = token)"
   ]
  },
  {
   "cell_type": "code",
   "execution_count": null,
   "id": "c2e30cba",
   "metadata": {},
   "outputs": [],
   "source": [
    "# Ваш id ВКонтакте, можно посмотреть в настройках\n",
    "VKID = ...\n",
    "data_path = f\"./data/{VKID}\""
   ]
  },
  {
   "cell_type": "markdown",
   "id": "6f6e47a2",
   "metadata": {},
   "source": [
    "Все готово! Доступные методы и их параметры можно найти в [официальной доке](https://dev.vk.com/reference)."
   ]
  },
  {
   "cell_type": "markdown",
   "id": "d00ca714",
   "metadata": {},
   "source": [
    "Получим свой список друзей для начала."
   ]
  },
  {
   "cell_type": "code",
   "execution_count": null,
   "id": "251c1330",
   "metadata": {},
   "outputs": [],
   "source": [
    "# Все доступные поля для v=5.131 версии апи, выкинул только различные ссылки на аватарку\n",
    "fields = \"bdate,can_post,can_see_all_posts,can_write_private_message,city,contacts,country,domain,education,has_mobile,timezone,last_seen,nickname,online,relation,sex,status,universities\""
   ]
  },
  {
   "cell_type": "code",
   "execution_count": null,
   "id": "4417b395",
   "metadata": {},
   "outputs": [],
   "source": [
    "friends = api.friends.get(user_id=VKID, fields=fields, v=5.131)"
   ]
  },
  {
   "cell_type": "code",
   "execution_count": null,
   "id": "532255f6",
   "metadata": {
    "scrolled": true
   },
   "outputs": [],
   "source": [
    "friends"
   ]
  },
  {
   "cell_type": "markdown",
   "id": "3fc77450",
   "metadata": {},
   "source": [
    "В ответе count -- число друзей (item-ов), items -- собственно сам список друзей с инфой о них. Сохраним json с данными."
   ]
  },
  {
   "cell_type": "code",
   "execution_count": null,
   "id": "b2caf00a-58ac-4527-9849-f06564015a1e",
   "metadata": {},
   "outputs": [],
   "source": [
    "if not os.path.exists(data_path):\n",
    "    os.mkdir(data_path)"
   ]
  },
  {
   "cell_type": "code",
   "execution_count": null,
   "id": "18e1bca1",
   "metadata": {},
   "outputs": [],
   "source": [
    "with open(f\"{data_path}/friends_{VKID}.json\", \"w\") as f:\n",
    "    json.dump(friends[\"items\"], f, indent=2)"
   ]
  },
  {
   "cell_type": "markdown",
   "id": "f6ffac0d",
   "metadata": {},
   "source": [
    "Теперь получим общих друзей. Единственная тонкость в текущей версии апи: если страница друга удалена, то апи вернет ошибку на весь запрос. Поэтому исключим таких пользователей (у них появляется поле deactivated в инфо)."
   ]
  },
  {
   "cell_type": "code",
   "execution_count": null,
   "id": "f1b30d88",
   "metadata": {},
   "outputs": [],
   "source": [
    "common_friends = api.friends.getMutual(\n",
    "    source_uid=VKID, target_uids=[fr[\"id\"] for fr in friends[\"items\"] if \"deactivated\" not in fr], v=5.131)"
   ]
  },
  {
   "cell_type": "code",
   "execution_count": null,
   "id": "ba6c72ab",
   "metadata": {},
   "outputs": [],
   "source": [
    "# Переделаем немного структуру из ответа и сохраним\n",
    "with open(f\"{data_path}/common_friends_{VKID}.json\", \"w\") as f:\n",
    "    json.dump({x[\"id\"]: x[\"common_friends\"] for x in common_friends}, f, indent=2)"
   ]
  },
  {
   "cell_type": "code",
   "execution_count": null,
   "id": "50ed1d1a",
   "metadata": {},
   "outputs": [],
   "source": []
  }
 ],
 "metadata": {
  "kernelspec": {
   "display_name": "Python 3 (ipykernel)",
   "language": "python",
   "name": "python3"
  },
  "language_info": {
   "codemirror_mode": {
    "name": "ipython",
    "version": 3
   },
   "file_extension": ".py",
   "mimetype": "text/x-python",
   "name": "python",
   "nbconvert_exporter": "python",
   "pygments_lexer": "ipython3",
   "version": "3.11.5"
  }
 },
 "nbformat": 4,
 "nbformat_minor": 5
}
