{
 "cells": [
  {
   "cell_type": "markdown",
   "metadata": {
    "toc": "true"
   },
   "source": [
    "<h1>Table of Contents<span class=\"tocSkip\"></span></h1>\n",
    "<div class=\"toc\"><ul class=\"toc-item\"><li><span><a href=\"#1.0.-Pandas---Первое-знакомство\" data-toc-modified-id=\"1.0.-Pandas---Первое-знакомство-1\"><span class=\"toc-item-num\">1&nbsp;&nbsp;</span>1.0. Pandas - Первое знакомство</a></span></li><li><span><a href=\"#НО\" data-toc-modified-id=\"НО-2\"><span class=\"toc-item-num\">2&nbsp;&nbsp;</span>НО</a></span></li><li><span><a href=\"#1.1.-Pandas-DataFrame\" data-toc-modified-id=\"1.1.-Pandas-DataFrame-3\"><span class=\"toc-item-num\">3&nbsp;&nbsp;</span>1.1. Pandas DataFrame</a></span></li><li><span><a href=\"#1.2.-Индексирование.\" data-toc-modified-id=\"1.2.-Индексирование.-4\"><span class=\"toc-item-num\">4&nbsp;&nbsp;</span>1.2. Индексирование.</a></span></li><li><span><a href=\"#1.3.-Работа-со-столбцами.\" data-toc-modified-id=\"1.3.-Работа-со-столбцами.-5\"><span class=\"toc-item-num\">5&nbsp;&nbsp;</span>1.3. Работа со столбцами.</a></span></li><li><span><a href=\"#1.4.-File-I/O.\" data-toc-modified-id=\"1.4.-File-I/O.-6\"><span class=\"toc-item-num\">6&nbsp;&nbsp;</span>1.4. File I/O.</a></span></li></ul></div>"
   ]
  },
  {
   "cell_type": "markdown",
   "metadata": {},
   "source": [
    "# 1.0. Pandas - Первое знакомство"
   ]
  },
  {
   "cell_type": "code",
   "execution_count": 2,
   "metadata": {
    "ExecuteTime": {
     "end_time": "2023-03-02T18:02:45.475792Z",
     "start_time": "2023-03-02T18:02:44.990253Z"
    }
   },
   "outputs": [],
   "source": [
    "%matplotlib inline\n",
    "import pandas as pd\n",
    "import numpy as np"
   ]
  },
  {
   "cell_type": "markdown",
   "metadata": {},
   "source": [
    "http://pandas.pydata.org/\n",
    "\n",
    "Pandas - open-source  проект, предоставляющий средства для работы с данными в Питоне с использованием абстракций более высокого уровня, чем numpy.\n",
    "\n",
    "В основе своей pandas полагается на структуры данных numpy, но вместе с тем предоставляет:\n",
    "\n",
    "* различные типы данных в рамках одной структуры pandas.DataFrame;\n",
    "* работу с пропущенными значениями;\n",
    "* удобную работу с типом DateTime;\n",
    "* набор методов для совместного использования нескольких массивов данных."
   ]
  },
  {
   "cell_type": "markdown",
   "metadata": {},
   "source": [
    "** Series **\n",
    "\n",
    "Series - это массив размерности один, который может содержать данные различного типа, и 1:1 соответствие между данными и некоторой меткой, присвоенной каждому элементу."
   ]
  },
  {
   "cell_type": "code",
   "execution_count": 3,
   "metadata": {
    "ExecuteTime": {
     "end_time": "2023-03-02T18:02:47.275498Z",
     "start_time": "2023-03-02T18:02:47.272537Z"
    }
   },
   "outputs": [],
   "source": [
    "series = pd.Series([-12, np.NaN, 1])"
   ]
  },
  {
   "cell_type": "code",
   "execution_count": 4,
   "metadata": {
    "ExecuteTime": {
     "end_time": "2023-03-02T18:02:48.504017Z",
     "start_time": "2023-03-02T18:02:48.135645Z"
    }
   },
   "outputs": [
    {
     "data": {
      "text/plain": [
       "0   -12.0\n",
       "1     NaN\n",
       "2     1.0\n",
       "dtype: float64"
      ]
     },
     "execution_count": 4,
     "metadata": {},
     "output_type": "execute_result"
    }
   ],
   "source": [
    "series"
   ]
  },
  {
   "cell_type": "code",
   "execution_count": 5,
   "metadata": {
    "ExecuteTime": {
     "end_time": "2023-03-02T18:02:50.718858Z",
     "start_time": "2023-03-02T18:02:50.707429Z"
    }
   },
   "outputs": [
    {
     "data": {
      "text/plain": [
       "array([-12.,  nan,   1.])"
      ]
     },
     "execution_count": 5,
     "metadata": {},
     "output_type": "execute_result"
    }
   ],
   "source": [
    "series.values"
   ]
  },
  {
   "cell_type": "code",
   "execution_count": 6,
   "metadata": {
    "ExecuteTime": {
     "end_time": "2023-03-02T18:02:57.650973Z",
     "start_time": "2023-03-02T18:02:57.646732Z"
    }
   },
   "outputs": [
    {
     "data": {
      "text/plain": [
       "RangeIndex(start=0, stop=3, step=1)"
      ]
     },
     "execution_count": 6,
     "metadata": {},
     "output_type": "execute_result"
    }
   ],
   "source": [
    "series.index"
   ]
  },
  {
   "cell_type": "code",
   "execution_count": 7,
   "metadata": {
    "ExecuteTime": {
     "end_time": "2023-03-02T18:03:01.429335Z",
     "start_time": "2023-03-02T18:03:01.408937Z"
    }
   },
   "outputs": [
    {
     "data": {
      "text/plain": [
       "0   -12.0\n",
       "1     NaN\n",
       "2     1.0\n",
       "dtype: float64"
      ]
     },
     "execution_count": 7,
     "metadata": {},
     "output_type": "execute_result"
    }
   ],
   "source": [
    "series"
   ]
  },
  {
   "cell_type": "markdown",
   "metadata": {},
   "source": [
    "Мы можем создавать объекты, самостоятельно задавая индекс:"
   ]
  },
  {
   "cell_type": "code",
   "execution_count": 8,
   "metadata": {
    "ExecuteTime": {
     "end_time": "2023-03-02T18:03:11.631163Z",
     "start_time": "2023-03-02T18:03:11.616623Z"
    }
   },
   "outputs": [],
   "source": [
    "series2 = pd.Series([0, 1, 2], index=['a', 'b', 'c'], name='column')"
   ]
  },
  {
   "cell_type": "code",
   "execution_count": 9,
   "metadata": {
    "ExecuteTime": {
     "end_time": "2023-03-02T18:03:12.254964Z",
     "start_time": "2023-03-02T18:03:12.241373Z"
    }
   },
   "outputs": [
    {
     "data": {
      "text/plain": [
       "'column'"
      ]
     },
     "execution_count": 9,
     "metadata": {},
     "output_type": "execute_result"
    }
   ],
   "source": [
    "series2.name"
   ]
  },
  {
   "cell_type": "code",
   "execution_count": 10,
   "metadata": {
    "ExecuteTime": {
     "end_time": "2023-03-02T18:03:13.540403Z",
     "start_time": "2023-03-02T18:03:13.526846Z"
    }
   },
   "outputs": [
    {
     "data": {
      "text/plain": [
       "a    0\n",
       "b    1\n",
       "c    2\n",
       "Name: column, dtype: int64"
      ]
     },
     "execution_count": 10,
     "metadata": {},
     "output_type": "execute_result"
    }
   ],
   "source": [
    "series2"
   ]
  },
  {
   "cell_type": "code",
   "execution_count": 11,
   "metadata": {
    "ExecuteTime": {
     "end_time": "2023-03-02T18:03:29.632934Z",
     "start_time": "2023-03-02T18:03:29.615987Z"
    }
   },
   "outputs": [
    {
     "data": {
      "text/plain": [
       "Index(['a', 'b', 'c'], dtype='object')"
      ]
     },
     "execution_count": 11,
     "metadata": {},
     "output_type": "execute_result"
    }
   ],
   "source": [
    "series2.index"
   ]
  },
  {
   "cell_type": "markdown",
   "metadata": {},
   "source": [
    "Преимущества индексирования понятны - мы имеем быстрый доступ к элементам массива, при этом можем пользоваться всеми (практически) свойствами массивов numpy."
   ]
  },
  {
   "cell_type": "code",
   "execution_count": 12,
   "metadata": {
    "ExecuteTime": {
     "end_time": "2023-03-02T18:03:47.276788Z",
     "start_time": "2023-03-02T18:03:47.272013Z"
    }
   },
   "outputs": [
    {
     "data": {
      "text/plain": [
       "0   -12.0\n",
       "1     NaN\n",
       "2     1.0\n",
       "dtype: float64"
      ]
     },
     "execution_count": 12,
     "metadata": {},
     "output_type": "execute_result"
    }
   ],
   "source": [
    "series"
   ]
  },
  {
   "cell_type": "code",
   "execution_count": 13,
   "metadata": {
    "ExecuteTime": {
     "end_time": "2023-03-02T18:03:48.048255Z",
     "start_time": "2023-03-02T18:03:48.043029Z"
    }
   },
   "outputs": [
    {
     "data": {
      "text/plain": [
       "a    0\n",
       "b    1\n",
       "c    2\n",
       "Name: column, dtype: int64"
      ]
     },
     "execution_count": 13,
     "metadata": {},
     "output_type": "execute_result"
    }
   ],
   "source": [
    "series2"
   ]
  },
  {
   "cell_type": "code",
   "execution_count": 14,
   "metadata": {
    "ExecuteTime": {
     "end_time": "2023-03-02T18:03:49.490428Z",
     "start_time": "2023-03-02T18:03:49.477566Z"
    }
   },
   "outputs": [
    {
     "data": {
      "text/plain": [
       "-12.0"
      ]
     },
     "execution_count": 14,
     "metadata": {},
     "output_type": "execute_result"
    }
   ],
   "source": [
    "series[0]"
   ]
  },
  {
   "cell_type": "code",
   "execution_count": 15,
   "metadata": {
    "ExecuteTime": {
     "end_time": "2023-03-02T18:03:50.052772Z",
     "start_time": "2023-03-02T18:03:50.045935Z"
    }
   },
   "outputs": [
    {
     "data": {
      "text/plain": [
       "2"
      ]
     },
     "execution_count": 15,
     "metadata": {},
     "output_type": "execute_result"
    }
   ],
   "source": [
    "series2[\"c\"]"
   ]
  },
  {
   "cell_type": "code",
   "execution_count": 16,
   "metadata": {
    "ExecuteTime": {
     "end_time": "2023-03-02T18:03:55.222545Z",
     "start_time": "2023-03-02T18:03:55.215923Z"
    }
   },
   "outputs": [
    {
     "data": {
      "text/plain": [
       "0   -12.0\n",
       "1     NaN\n",
       "dtype: float64"
      ]
     },
     "execution_count": 16,
     "metadata": {},
     "output_type": "execute_result"
    }
   ],
   "source": [
    "series[0:2]"
   ]
  },
  {
   "cell_type": "markdown",
   "metadata": {},
   "source": [
    "**Булево индексирование:**"
   ]
  },
  {
   "cell_type": "code",
   "execution_count": 17,
   "metadata": {
    "ExecuteTime": {
     "end_time": "2023-03-02T18:04:02.697054Z",
     "start_time": "2023-03-02T18:04:02.692137Z"
    }
   },
   "outputs": [
    {
     "data": {
      "text/plain": [
       "0    False\n",
       "1    False\n",
       "2     True\n",
       "dtype: bool"
      ]
     },
     "execution_count": 17,
     "metadata": {},
     "output_type": "execute_result"
    }
   ],
   "source": [
    "series > 0"
   ]
  },
  {
   "cell_type": "code",
   "execution_count": 18,
   "metadata": {
    "ExecuteTime": {
     "end_time": "2023-03-02T18:04:03.120215Z",
     "start_time": "2023-03-02T18:04:03.113638Z"
    }
   },
   "outputs": [
    {
     "data": {
      "text/plain": [
       "array([False, False,  True])"
      ]
     },
     "execution_count": 18,
     "metadata": {},
     "output_type": "execute_result"
    }
   ],
   "source": [
    "series.values > 0"
   ]
  },
  {
   "cell_type": "code",
   "execution_count": 19,
   "metadata": {
    "ExecuteTime": {
     "end_time": "2023-03-02T18:04:09.041639Z",
     "start_time": "2023-03-02T18:04:09.036424Z"
    }
   },
   "outputs": [
    {
     "data": {
      "text/plain": [
       "2    1.0\n",
       "dtype: float64"
      ]
     },
     "execution_count": 19,
     "metadata": {},
     "output_type": "execute_result"
    }
   ],
   "source": [
    "series[series > 0]"
   ]
  },
  {
   "cell_type": "code",
   "execution_count": 21,
   "metadata": {
    "ExecuteTime": {
     "end_time": "2023-03-02T18:04:27.680010Z",
     "start_time": "2023-03-02T18:04:27.676836Z"
    }
   },
   "outputs": [
    {
     "data": {
      "text/plain": [
       "True"
      ]
     },
     "execution_count": 21,
     "metadata": {},
     "output_type": "execute_result"
    }
   ],
   "source": [
    "1 in series"
   ]
  },
  {
   "cell_type": "code",
   "execution_count": null,
   "metadata": {
    "ExecuteTime": {
     "end_time": "2023-03-02T14:35:33.481157Z",
     "start_time": "2023-03-02T14:35:33.476593Z"
    }
   },
   "outputs": [],
   "source": [
    "series"
   ]
  },
  {
   "cell_type": "markdown",
   "metadata": {},
   "source": [
    "Конструктор принимет массив ранга один либо словарь. Ключи словаря используются как индекс (в отсортированном порядке):"
   ]
  },
  {
   "cell_type": "code",
   "execution_count": 22,
   "metadata": {
    "ExecuteTime": {
     "end_time": "2023-03-02T18:04:43.532609Z",
     "start_time": "2023-03-02T18:04:43.527696Z"
    }
   },
   "outputs": [
    {
     "data": {
      "text/plain": [
       "a    1\n",
       "c    2\n",
       "b    3\n",
       "dtype: int64"
      ]
     },
     "execution_count": 22,
     "metadata": {},
     "output_type": "execute_result"
    }
   ],
   "source": [
    "pd.Series({'a': 1, 'c': 2, 'b': 3})"
   ]
  },
  {
   "cell_type": "code",
   "execution_count": 23,
   "metadata": {
    "ExecuteTime": {
     "end_time": "2023-03-02T18:04:49.054164Z",
     "start_time": "2023-03-02T18:04:49.049537Z"
    }
   },
   "outputs": [
    {
     "data": {
      "text/plain": [
       "a     1\n",
       "c    10\n",
       "b     3\n",
       "dtype: int64"
      ]
     },
     "execution_count": 23,
     "metadata": {},
     "output_type": "execute_result"
    }
   ],
   "source": [
    "pd.Series({'a': 1, 'c': 2, 'c': 10, 'b': 3})"
   ]
  },
  {
   "cell_type": "code",
   "execution_count": 24,
   "metadata": {
    "ExecuteTime": {
     "end_time": "2023-03-02T18:04:52.665703Z",
     "start_time": "2023-03-02T18:04:52.663039Z"
    }
   },
   "outputs": [],
   "source": [
    "index = ['a_letter', 'b_letter', 'c_letter', 'c']"
   ]
  },
  {
   "cell_type": "markdown",
   "metadata": {},
   "source": [
    "Если вызывается конструктор со словарем и парметром index = , то отсутствующие в словаре ключи получат NaN."
   ]
  },
  {
   "cell_type": "code",
   "execution_count": 25,
   "metadata": {
    "ExecuteTime": {
     "end_time": "2023-03-02T18:05:09.904348Z",
     "start_time": "2023-03-02T18:05:09.897683Z"
    }
   },
   "outputs": [
    {
     "data": {
      "text/plain": [
       "a_letter    1.0\n",
       "b_letter    2.0\n",
       "c_letter    NaN\n",
       "c           3.0\n",
       "dtype: float64"
      ]
     },
     "execution_count": 25,
     "metadata": {},
     "output_type": "execute_result"
    }
   ],
   "source": [
    "pd.Series({'a_letter': 1, 'b_letter': 2, 'c': 3}, index=index)"
   ]
  },
  {
   "cell_type": "code",
   "execution_count": 27,
   "metadata": {
    "ExecuteTime": {
     "end_time": "2023-03-02T18:05:55.384062Z",
     "start_time": "2023-03-02T18:05:55.378289Z"
    }
   },
   "outputs": [
    {
     "data": {
      "text/plain": [
       "a_letter    1\n",
       "b_letter    2\n",
       "c_letter    3\n",
       "dtype: int64"
      ]
     },
     "execution_count": 27,
     "metadata": {},
     "output_type": "execute_result"
    }
   ],
   "source": [
    "pd.Series([1, 2, 3], index=index[:3])"
   ]
  },
  {
   "cell_type": "markdown",
   "metadata": {},
   "source": [
    "Операции с Series напоминают операции с ndarray:"
   ]
  },
  {
   "cell_type": "code",
   "execution_count": 28,
   "metadata": {
    "ExecuteTime": {
     "end_time": "2023-03-02T18:06:10.501718Z",
     "start_time": "2023-03-02T18:06:10.497849Z"
    }
   },
   "outputs": [
    {
     "data": {
      "text/plain": [
       "0   -12.0\n",
       "1     NaN\n",
       "2     1.0\n",
       "dtype: float64"
      ]
     },
     "execution_count": 28,
     "metadata": {},
     "output_type": "execute_result"
    }
   ],
   "source": [
    "series"
   ]
  },
  {
   "cell_type": "code",
   "execution_count": 29,
   "metadata": {
    "ExecuteTime": {
     "end_time": "2023-03-02T18:06:11.104068Z",
     "start_time": "2023-03-02T18:06:11.101124Z"
    }
   },
   "outputs": [],
   "source": [
    "series[1] = 100"
   ]
  },
  {
   "cell_type": "code",
   "execution_count": 30,
   "metadata": {
    "ExecuteTime": {
     "end_time": "2023-03-02T18:06:12.151861Z",
     "start_time": "2023-03-02T18:06:12.147888Z"
    }
   },
   "outputs": [
    {
     "data": {
      "text/plain": [
       "0    -12.0\n",
       "1    100.0\n",
       "2      1.0\n",
       "dtype: float64"
      ]
     },
     "execution_count": 30,
     "metadata": {},
     "output_type": "execute_result"
    }
   ],
   "source": [
    "series"
   ]
  },
  {
   "cell_type": "code",
   "execution_count": 31,
   "metadata": {
    "ExecuteTime": {
     "end_time": "2023-03-02T18:06:17.277990Z",
     "start_time": "2023-03-02T18:06:17.257880Z"
    }
   },
   "outputs": [
    {
     "data": {
      "text/plain": [
       "0    -24.0\n",
       "1    200.0\n",
       "2      2.0\n",
       "dtype: float64"
      ]
     },
     "execution_count": 31,
     "metadata": {},
     "output_type": "execute_result"
    }
   ],
   "source": [
    "series + series"
   ]
  },
  {
   "cell_type": "code",
   "execution_count": 32,
   "metadata": {
    "ExecuteTime": {
     "end_time": "2023-03-02T18:06:18.713574Z",
     "start_time": "2023-03-02T18:06:18.708864Z"
    }
   },
   "outputs": [
    {
     "data": {
      "text/plain": [
       "0      144.0\n",
       "1    10000.0\n",
       "2        1.0\n",
       "dtype: float64"
      ]
     },
     "execution_count": 32,
     "metadata": {},
     "output_type": "execute_result"
    }
   ],
   "source": [
    "series * series"
   ]
  },
  {
   "cell_type": "code",
   "execution_count": 33,
   "metadata": {
    "ExecuteTime": {
     "end_time": "2023-03-02T18:06:20.171498Z",
     "start_time": "2023-03-02T18:06:20.166595Z"
    }
   },
   "outputs": [
    {
     "data": {
      "text/plain": [
       "0    6.144212e-06\n",
       "1    2.688117e+43\n",
       "2    2.718282e+00\n",
       "dtype: float64"
      ]
     },
     "execution_count": 33,
     "metadata": {},
     "output_type": "execute_result"
    }
   ],
   "source": [
    "np.exp(series.astype(int))"
   ]
  },
  {
   "cell_type": "markdown",
   "metadata": {},
   "source": [
    "Самому Series и индексу можно присвоить атрибут имя:"
   ]
  },
  {
   "cell_type": "code",
   "execution_count": 34,
   "metadata": {
    "ExecuteTime": {
     "end_time": "2023-03-02T18:06:36.787357Z",
     "start_time": "2023-03-02T18:06:36.785022Z"
    }
   },
   "outputs": [],
   "source": [
    "series.name = 'some_test_series'"
   ]
  },
  {
   "cell_type": "code",
   "execution_count": 35,
   "metadata": {
    "ExecuteTime": {
     "end_time": "2023-03-02T18:06:36.914042Z",
     "start_time": "2023-03-02T18:06:36.788803Z"
    }
   },
   "outputs": [
    {
     "data": {
      "text/plain": [
       "0    -12.0\n",
       "1    100.0\n",
       "2      1.0\n",
       "Name: some_test_series, dtype: float64"
      ]
     },
     "execution_count": 35,
     "metadata": {},
     "output_type": "execute_result"
    }
   ],
   "source": [
    "series"
   ]
  },
  {
   "cell_type": "code",
   "execution_count": 36,
   "metadata": {
    "ExecuteTime": {
     "end_time": "2023-03-02T18:06:42.755357Z",
     "start_time": "2023-03-02T18:06:42.752995Z"
    }
   },
   "outputs": [],
   "source": [
    "series.index.name = 'some_test_index'"
   ]
  },
  {
   "cell_type": "code",
   "execution_count": 37,
   "metadata": {
    "ExecuteTime": {
     "end_time": "2023-03-02T18:06:43.611315Z",
     "start_time": "2023-03-02T18:06:43.607376Z"
    },
    "scrolled": true
   },
   "outputs": [
    {
     "data": {
      "text/plain": [
       "some_test_index\n",
       "0    -12.0\n",
       "1    100.0\n",
       "2      1.0\n",
       "Name: some_test_series, dtype: float64"
      ]
     },
     "execution_count": 37,
     "metadata": {},
     "output_type": "execute_result"
    }
   ],
   "source": [
    "series"
   ]
  },
  {
   "cell_type": "code",
   "execution_count": 38,
   "metadata": {
    "ExecuteTime": {
     "end_time": "2023-03-02T18:06:50.712926Z",
     "start_time": "2023-03-02T18:06:50.709523Z"
    }
   },
   "outputs": [
    {
     "data": {
      "text/plain": [
       "RangeIndex(start=0, stop=3, step=1, name='some_test_index')"
      ]
     },
     "execution_count": 38,
     "metadata": {},
     "output_type": "execute_result"
    }
   ],
   "source": [
    "series.index"
   ]
  },
  {
   "cell_type": "markdown",
   "metadata": {},
   "source": [
    "Важно помнить, как pandas обращается с несовпадающими индексами:"
   ]
  },
  {
   "cell_type": "code",
   "execution_count": 39,
   "metadata": {
    "ExecuteTime": {
     "end_time": "2023-03-02T18:06:58.807949Z",
     "start_time": "2023-03-02T18:06:58.804302Z"
    }
   },
   "outputs": [],
   "source": [
    "first_series = pd.Series({'a': 1, 'b': 2, 'c': 2})\n",
    "second_series = pd.Series({'a': 1, 'b': 3, 'd': -1})"
   ]
  },
  {
   "cell_type": "code",
   "execution_count": 41,
   "metadata": {
    "ExecuteTime": {
     "end_time": "2023-03-02T18:07:04.200272Z",
     "start_time": "2023-03-02T18:07:04.159609Z"
    }
   },
   "outputs": [
    {
     "data": {
      "text/plain": [
       "a    2.0\n",
       "b    5.0\n",
       "c    NaN\n",
       "d    NaN\n",
       "dtype: float64"
      ]
     },
     "execution_count": 41,
     "metadata": {},
     "output_type": "execute_result"
    }
   ],
   "source": [
    "first_series + second_series"
   ]
  },
  {
   "cell_type": "code",
   "execution_count": 43,
   "metadata": {
    "ExecuteTime": {
     "end_time": "2023-03-02T18:08:01.954881Z",
     "start_time": "2023-03-02T18:08:01.948811Z"
    },
    "scrolled": true
   },
   "outputs": [],
   "source": [
    "a = first_series / second_series"
   ]
  },
  {
   "cell_type": "markdown",
   "metadata": {},
   "source": [
    "Индекс всегда можно поменять:"
   ]
  },
  {
   "cell_type": "code",
   "execution_count": 46,
   "metadata": {
    "ExecuteTime": {
     "end_time": "2023-03-02T18:08:19.796520Z",
     "start_time": "2023-03-02T18:08:19.788012Z"
    }
   },
   "outputs": [
    {
     "data": {
      "text/plain": [
       "some_test_index\n",
       "0    -12.0\n",
       "1    100.0\n",
       "2      1.0\n",
       "Name: some_test_series, dtype: float64"
      ]
     },
     "execution_count": 46,
     "metadata": {},
     "output_type": "execute_result"
    }
   ],
   "source": [
    "series"
   ]
  },
  {
   "cell_type": "code",
   "execution_count": 47,
   "metadata": {
    "ExecuteTime": {
     "end_time": "2023-03-02T18:08:23.619438Z",
     "start_time": "2023-03-02T18:08:23.606471Z"
    }
   },
   "outputs": [],
   "source": [
    "series.index = ['a_letter', 'b_letter', 'c_letter']"
   ]
  },
  {
   "cell_type": "code",
   "execution_count": 48,
   "metadata": {
    "ExecuteTime": {
     "end_time": "2023-03-02T18:08:26.120608Z",
     "start_time": "2023-03-02T18:08:26.111027Z"
    }
   },
   "outputs": [
    {
     "data": {
      "text/plain": [
       "a_letter    -12.0\n",
       "b_letter    100.0\n",
       "c_letter      1.0\n",
       "Name: some_test_series, dtype: float64"
      ]
     },
     "execution_count": 48,
     "metadata": {},
     "output_type": "execute_result"
    }
   ],
   "source": [
    "series"
   ]
  },
  {
   "cell_type": "code",
   "execution_count": 49,
   "metadata": {
    "ExecuteTime": {
     "end_time": "2023-03-02T18:08:34.201835Z",
     "start_time": "2023-03-02T18:08:34.184392Z"
    }
   },
   "outputs": [
    {
     "data": {
      "text/plain": [
       "a_letter    -12.0\n",
       "b_letter    100.0\n",
       "c_letter      1.0\n",
       "Name: some_test_series, dtype: float64"
      ]
     },
     "execution_count": 49,
     "metadata": {},
     "output_type": "execute_result"
    }
   ],
   "source": [
    "series.loc['a_letter':\"c_letter\"]"
   ]
  },
  {
   "cell_type": "code",
   "execution_count": 51,
   "metadata": {
    "ExecuteTime": {
     "end_time": "2023-03-02T18:08:53.677442Z",
     "start_time": "2023-03-02T18:08:53.651571Z"
    }
   },
   "outputs": [
    {
     "data": {
      "text/plain": [
       "a_letter    -12.0\n",
       "b_letter    100.0\n",
       "Name: some_test_series, dtype: float64"
      ]
     },
     "execution_count": 51,
     "metadata": {},
     "output_type": "execute_result"
    }
   ],
   "source": [
    "series.iloc[0:2]"
   ]
  },
  {
   "cell_type": "code",
   "execution_count": 52,
   "metadata": {
    "ExecuteTime": {
     "end_time": "2023-03-02T18:09:35.483281Z",
     "start_time": "2023-03-02T18:09:35.474600Z"
    }
   },
   "outputs": [
    {
     "data": {
      "text/plain": [
       "a_letter    -12.0\n",
       "b_letter    100.0\n",
       "Name: some_test_series, dtype: float64"
      ]
     },
     "execution_count": 52,
     "metadata": {},
     "output_type": "execute_result"
    }
   ],
   "source": [
    "series.loc['a_letter':'b_letter']"
   ]
  },
  {
   "cell_type": "code",
   "execution_count": 53,
   "metadata": {
    "ExecuteTime": {
     "end_time": "2023-03-02T18:09:41.514152Z",
     "start_time": "2023-03-02T18:09:41.509532Z"
    }
   },
   "outputs": [
    {
     "data": {
      "text/plain": [
       "a_letter   -12.0\n",
       "Name: some_test_series, dtype: float64"
      ]
     },
     "execution_count": 53,
     "metadata": {},
     "output_type": "execute_result"
    }
   ],
   "source": [
    "series[0:1]"
   ]
  },
  {
   "cell_type": "code",
   "execution_count": 54,
   "metadata": {
    "ExecuteTime": {
     "end_time": "2023-03-02T18:09:46.466726Z",
     "start_time": "2023-03-02T18:09:46.464207Z"
    }
   },
   "outputs": [],
   "source": [
    "series['a_letter'] = 200"
   ]
  },
  {
   "cell_type": "code",
   "execution_count": 55,
   "metadata": {
    "ExecuteTime": {
     "end_time": "2023-03-02T18:09:46.720553Z",
     "start_time": "2023-03-02T18:09:46.716173Z"
    }
   },
   "outputs": [
    {
     "data": {
      "text/plain": [
       "a_letter    200.0\n",
       "b_letter    100.0\n",
       "c_letter      1.0\n",
       "Name: some_test_series, dtype: float64"
      ]
     },
     "execution_count": 55,
     "metadata": {},
     "output_type": "execute_result"
    }
   ],
   "source": [
    "series"
   ]
  },
  {
   "cell_type": "markdown",
   "metadata": {},
   "source": [
    "# 1.1. Pandas DataFrame"
   ]
  },
  {
   "cell_type": "markdown",
   "metadata": {},
   "source": [
    "Представим себе структуру, которая могла бы содержать несколько объекто типа Series, объединенных общим индексом. Тогда бы такая структура являлась pandas.DataFrame - табличным форматом данных, снабженным 2 типами индексов - строчным и колоночным."
   ]
  },
  {
   "cell_type": "code",
   "execution_count": null,
   "metadata": {
    "ExecuteTime": {
     "end_time": "2023-03-02T14:37:08.861680Z",
     "start_time": "2023-03-02T14:37:08.857387Z"
    }
   },
   "outputs": [],
   "source": [
    "df = pd.DataFrame({'A': [20, 10, 30], 'B': np.random.randn(3),\n",
    "                   'C': ['A', 'B', 'C']}, index=['a', 'b', 'c'])"
   ]
  },
  {
   "cell_type": "code",
   "execution_count": null,
   "metadata": {
    "ExecuteTime": {
     "end_time": "2023-03-02T14:37:09.087861Z",
     "start_time": "2023-03-02T14:37:09.063046Z"
    }
   },
   "outputs": [],
   "source": [
    "df"
   ]
  },
  {
   "cell_type": "code",
   "execution_count": null,
   "metadata": {
    "ExecuteTime": {
     "end_time": "2023-03-02T14:37:09.667504Z",
     "start_time": "2023-03-02T14:37:09.663471Z"
    }
   },
   "outputs": [],
   "source": [
    "df.values"
   ]
  },
  {
   "cell_type": "code",
   "execution_count": null,
   "metadata": {
    "ExecuteTime": {
     "end_time": "2023-03-02T14:37:10.307996Z",
     "start_time": "2023-03-02T14:37:10.299026Z"
    }
   },
   "outputs": [],
   "source": [
    "df.info()"
   ]
  },
  {
   "cell_type": "markdown",
   "metadata": {},
   "source": [
    "Выбор столбца ничем не отличается от стандартного \\_\\_getitem\\_\\_ синтаксиса:"
   ]
  },
  {
   "cell_type": "code",
   "execution_count": null,
   "metadata": {
    "ExecuteTime": {
     "end_time": "2023-03-02T14:37:12.780208Z",
     "start_time": "2023-03-02T14:37:12.775919Z"
    }
   },
   "outputs": [],
   "source": [
    "df['A']"
   ]
  },
  {
   "cell_type": "code",
   "execution_count": null,
   "metadata": {
    "ExecuteTime": {
     "end_time": "2023-03-02T14:37:13.389539Z",
     "start_time": "2023-03-02T14:37:13.368217Z"
    }
   },
   "outputs": [],
   "source": [
    "df[['A', 'C']]"
   ]
  },
  {
   "cell_type": "code",
   "execution_count": null,
   "metadata": {
    "ExecuteTime": {
     "end_time": "2023-03-02T14:37:15.012241Z",
     "start_time": "2023-03-02T14:37:15.007990Z"
    }
   },
   "outputs": [],
   "source": [
    "df.C"
   ]
  },
  {
   "cell_type": "markdown",
   "metadata": {},
   "source": [
    "Возможные аргументы для конструктора:\n",
    "\n",
    "* массив ранга 2 (индексы для столбцов и строк передаются отдельным аргументом либо будет использован xrange);\n",
    "* словарь массивов ранга 1 (ключ - имя стобца, данные - элементы последовательности);\n",
    "* словарь объектов pd.Series;\n",
    "* словарь словарей (ключи внутреннего словаря - имена столбцов), ключи внешнего словаря - индекс обеъкта;"
   ]
  },
  {
   "cell_type": "markdown",
   "metadata": {},
   "source": [
    "Выбор строки:"
   ]
  },
  {
   "cell_type": "code",
   "execution_count": null,
   "metadata": {
    "ExecuteTime": {
     "end_time": "2023-03-02T14:37:16.368008Z",
     "start_time": "2023-03-02T14:37:16.358220Z"
    }
   },
   "outputs": [],
   "source": [
    "df.loc[['a', 'b']]"
   ]
  },
  {
   "cell_type": "markdown",
   "metadata": {},
   "source": [
    "--  N: Обратите внимание - slice подобного типа включает в себя крайний объект \"справа\"."
   ]
  },
  {
   "cell_type": "code",
   "execution_count": null,
   "metadata": {
    "ExecuteTime": {
     "end_time": "2023-03-02T14:37:25.477648Z",
     "start_time": "2023-03-02T14:37:25.470525Z"
    }
   },
   "outputs": [],
   "source": [
    "df.loc['a':'b']"
   ]
  },
  {
   "cell_type": "markdown",
   "metadata": {},
   "source": [
    "--  N: А такой - не включает."
   ]
  },
  {
   "cell_type": "code",
   "execution_count": null,
   "metadata": {
    "ExecuteTime": {
     "end_time": "2023-03-02T14:37:44.217964Z",
     "start_time": "2023-03-02T14:37:44.211187Z"
    }
   },
   "outputs": [],
   "source": [
    "df.iloc[0:1]"
   ]
  },
  {
   "cell_type": "code",
   "execution_count": null,
   "metadata": {
    "ExecuteTime": {
     "end_time": "2022-03-09T17:59:09.527448Z",
     "start_time": "2022-03-09T17:59:09.520856Z"
    }
   },
   "outputs": [],
   "source": [
    "df.loc['a':'b', ['A', 'C']]"
   ]
  },
  {
   "cell_type": "code",
   "execution_count": null,
   "metadata": {
    "ExecuteTime": {
     "end_time": "2022-03-09T17:59:20.305115Z",
     "start_time": "2022-03-09T17:59:20.298761Z"
    }
   },
   "outputs": [],
   "source": [
    "df.iloc[0:2, [0, 2]]"
   ]
  },
  {
   "cell_type": "markdown",
   "metadata": {},
   "source": [
    "** Операции с dataframe **"
   ]
  },
  {
   "cell_type": "code",
   "execution_count": null,
   "metadata": {
    "ExecuteTime": {
     "end_time": "2022-03-09T17:59:35.630646Z",
     "start_time": "2022-03-09T17:59:35.624307Z"
    }
   },
   "outputs": [],
   "source": [
    "df"
   ]
  },
  {
   "cell_type": "code",
   "execution_count": null,
   "metadata": {
    "ExecuteTime": {
     "end_time": "2022-03-09T17:59:36.726065Z",
     "start_time": "2022-03-09T17:59:36.718903Z"
    }
   },
   "outputs": [],
   "source": [
    "df[['A', 'B']] + 5"
   ]
  },
  {
   "cell_type": "code",
   "execution_count": null,
   "metadata": {
    "ExecuteTime": {
     "end_time": "2022-03-09T17:59:45.378035Z",
     "start_time": "2022-03-09T17:59:45.369730Z"
    }
   },
   "outputs": [],
   "source": [
    "df[['A', 'C']] + df[['A', 'C']]"
   ]
  },
  {
   "cell_type": "markdown",
   "metadata": {},
   "source": [
    "Теперь внимание:"
   ]
  },
  {
   "cell_type": "code",
   "execution_count": null,
   "metadata": {
    "ExecuteTime": {
     "end_time": "2022-03-09T18:00:14.671238Z",
     "start_time": "2022-03-09T18:00:14.666891Z"
    }
   },
   "outputs": [],
   "source": [
    "df1 = pd.DataFrame({'A': [1, 2, 3], 'B': [4, 5, 6]})\n",
    "df2 = pd.DataFrame({'A': [6, 2, 4], 'B': [9, 1, 4]}, index=[2, 0, 1])"
   ]
  },
  {
   "cell_type": "code",
   "execution_count": null,
   "metadata": {
    "ExecuteTime": {
     "end_time": "2022-03-09T18:00:15.894599Z",
     "start_time": "2022-03-09T18:00:15.889811Z"
    }
   },
   "outputs": [],
   "source": [
    "df1"
   ]
  },
  {
   "cell_type": "code",
   "execution_count": null,
   "metadata": {
    "ExecuteTime": {
     "end_time": "2022-03-09T18:00:16.460952Z",
     "start_time": "2022-03-09T18:00:16.456386Z"
    }
   },
   "outputs": [],
   "source": [
    "df2"
   ]
  },
  {
   "cell_type": "code",
   "execution_count": null,
   "metadata": {
    "ExecuteTime": {
     "end_time": "2022-03-09T18:00:26.642726Z",
     "start_time": "2022-03-09T18:00:26.635876Z"
    }
   },
   "outputs": [],
   "source": [
    "df1 + df2"
   ]
  },
  {
   "cell_type": "code",
   "execution_count": null,
   "metadata": {
    "ExecuteTime": {
     "end_time": "2022-03-09T18:01:19.584002Z",
     "start_time": "2022-03-09T18:01:19.580649Z"
    }
   },
   "outputs": [],
   "source": [
    "df1.values"
   ]
  },
  {
   "cell_type": "code",
   "execution_count": null,
   "metadata": {
    "ExecuteTime": {
     "end_time": "2022-03-09T18:01:33.395528Z",
     "start_time": "2022-03-09T18:01:33.392078Z"
    }
   },
   "outputs": [],
   "source": [
    "df2.values"
   ]
  },
  {
   "cell_type": "code",
   "execution_count": null,
   "metadata": {
    "ExecuteTime": {
     "end_time": "2022-03-09T18:01:41.139472Z",
     "start_time": "2022-03-09T18:01:41.136029Z"
    }
   },
   "outputs": [],
   "source": [
    "df1.values + df2.values"
   ]
  },
  {
   "cell_type": "markdown",
   "metadata": {},
   "source": [
    "Очень хорошо!"
   ]
  },
  {
   "cell_type": "code",
   "execution_count": null,
   "metadata": {
    "ExecuteTime": {
     "end_time": "2022-03-09T18:02:47.316508Z",
     "start_time": "2022-03-09T18:02:47.308920Z"
    }
   },
   "outputs": [],
   "source": [
    "df3 = pd.DataFrame(np.random.randn(5, 3), columns=['A', 'B', 'C'])\n",
    "df3"
   ]
  },
  {
   "cell_type": "code",
   "execution_count": null,
   "metadata": {
    "ExecuteTime": {
     "end_time": "2022-03-09T18:02:49.019661Z",
     "start_time": "2022-03-09T18:02:49.015179Z"
    }
   },
   "outputs": [],
   "source": [
    "df1"
   ]
  },
  {
   "cell_type": "code",
   "execution_count": null,
   "metadata": {
    "ExecuteTime": {
     "end_time": "2022-03-09T18:02:49.581156Z",
     "start_time": "2022-03-09T18:02:49.573301Z"
    }
   },
   "outputs": [],
   "source": [
    "df1 + df3"
   ]
  },
  {
   "cell_type": "markdown",
   "metadata": {},
   "source": [
    "После примера с Series - такое поведение как раз и ожидалось.\n",
    "\n",
    "Тем не менее, бывают случаи, когда нам требуется чем - либо заполнить места, в которых индекс не пересекается. В таких случаях удобно использовать параметр fill_value."
   ]
  },
  {
   "cell_type": "code",
   "execution_count": null,
   "metadata": {
    "ExecuteTime": {
     "end_time": "2022-03-09T18:03:53.181325Z",
     "start_time": "2022-03-09T18:03:53.172201Z"
    }
   },
   "outputs": [],
   "source": [
    "df1.add(df3, fill_value=0)"
   ]
  },
  {
   "cell_type": "markdown",
   "metadata": {},
   "source": [
    "Таких \"гибких\" арифметических операций 4:\n",
    "\n",
    "* df.add;\n",
    "* df.sub;\n",
    "* df.div;\n",
    "* df.mul."
   ]
  },
  {
   "cell_type": "markdown",
   "metadata": {},
   "source": [
    "Как наследие массива из numpy, мы можем использовать broadcasting:"
   ]
  },
  {
   "cell_type": "code",
   "execution_count": null,
   "metadata": {
    "ExecuteTime": {
     "end_time": "2022-03-09T18:04:54.053477Z",
     "start_time": "2022-03-09T18:04:54.050141Z"
    }
   },
   "outputs": [],
   "source": [
    "df = pd.DataFrame(np.arange(12.).reshape((4, 3)), columns=list('bde'), index=['U', 'O', 'T', 'Z'])"
   ]
  },
  {
   "cell_type": "code",
   "execution_count": null,
   "metadata": {
    "ExecuteTime": {
     "end_time": "2022-03-09T18:05:06.180609Z",
     "start_time": "2022-03-09T18:05:06.173662Z"
    }
   },
   "outputs": [],
   "source": [
    "df"
   ]
  },
  {
   "cell_type": "code",
   "execution_count": null,
   "metadata": {
    "ExecuteTime": {
     "end_time": "2022-03-09T18:05:07.574403Z",
     "start_time": "2022-03-09T18:05:07.572130Z"
    }
   },
   "outputs": [],
   "source": [
    "series = df.iloc[0]"
   ]
  },
  {
   "cell_type": "code",
   "execution_count": null,
   "metadata": {
    "ExecuteTime": {
     "end_time": "2022-03-09T18:05:07.982748Z",
     "start_time": "2022-03-09T18:05:07.979406Z"
    }
   },
   "outputs": [],
   "source": [
    "series"
   ]
  },
  {
   "cell_type": "code",
   "execution_count": null,
   "metadata": {
    "ExecuteTime": {
     "end_time": "2022-03-09T18:05:08.384051Z",
     "start_time": "2022-03-09T18:05:08.378135Z"
    }
   },
   "outputs": [],
   "source": [
    "df"
   ]
  },
  {
   "cell_type": "code",
   "execution_count": null,
   "metadata": {
    "ExecuteTime": {
     "end_time": "2022-03-09T18:05:11.745033Z",
     "start_time": "2022-03-09T18:05:11.741706Z"
    }
   },
   "outputs": [],
   "source": [
    "series"
   ]
  },
  {
   "cell_type": "code",
   "execution_count": null,
   "metadata": {
    "ExecuteTime": {
     "end_time": "2022-03-09T18:05:15.424207Z",
     "start_time": "2022-03-09T18:05:15.416675Z"
    }
   },
   "outputs": [],
   "source": [
    "df - series"
   ]
  },
  {
   "cell_type": "markdown",
   "metadata": {},
   "source": [
    "Совпадение считается по индексу. Если индексы не совпадают, то операция будет использовать объединения индексов:"
   ]
  },
  {
   "cell_type": "code",
   "execution_count": null,
   "metadata": {
    "ExecuteTime": {
     "end_time": "2022-03-09T18:06:11.735990Z",
     "start_time": "2022-03-09T18:06:11.733068Z"
    }
   },
   "outputs": [],
   "source": [
    "series2 = pd.Series(range(3), index=['b', 'e', 'f'])"
   ]
  },
  {
   "cell_type": "code",
   "execution_count": null,
   "metadata": {
    "ExecuteTime": {
     "end_time": "2022-03-09T18:06:13.149812Z",
     "start_time": "2022-03-09T18:06:13.146410Z"
    }
   },
   "outputs": [],
   "source": [
    "series2"
   ]
  },
  {
   "cell_type": "code",
   "execution_count": null,
   "metadata": {
    "ExecuteTime": {
     "end_time": "2022-03-09T18:06:14.237998Z",
     "start_time": "2022-03-09T18:06:14.231593Z"
    }
   },
   "outputs": [],
   "source": [
    "df"
   ]
  },
  {
   "cell_type": "code",
   "execution_count": null,
   "metadata": {
    "ExecuteTime": {
     "end_time": "2022-03-09T18:06:15.779844Z",
     "start_time": "2022-03-09T18:06:15.770714Z"
    }
   },
   "outputs": [],
   "source": [
    "df + series2"
   ]
  },
  {
   "cell_type": "markdown",
   "metadata": {},
   "source": [
    "Если хочется broadcast по столбцам, то нужно использовать один из 4 методов, которые мы поисали ранее:"
   ]
  },
  {
   "cell_type": "code",
   "execution_count": null,
   "metadata": {
    "ExecuteTime": {
     "end_time": "2021-10-06T18:06:20.937635Z",
     "start_time": "2021-10-06T18:06:20.934979Z"
    }
   },
   "outputs": [],
   "source": [
    "series3 = df['d']"
   ]
  },
  {
   "cell_type": "code",
   "execution_count": null,
   "metadata": {
    "ExecuteTime": {
     "end_time": "2021-10-06T18:06:25.791230Z",
     "start_time": "2021-10-06T18:06:25.786628Z"
    }
   },
   "outputs": [],
   "source": [
    "series3"
   ]
  },
  {
   "cell_type": "code",
   "execution_count": null,
   "metadata": {
    "ExecuteTime": {
     "end_time": "2021-10-06T18:06:31.350712Z",
     "start_time": "2021-10-06T18:06:31.343341Z"
    }
   },
   "outputs": [],
   "source": [
    "df"
   ]
  },
  {
   "cell_type": "code",
   "execution_count": null,
   "metadata": {
    "ExecuteTime": {
     "end_time": "2021-10-06T18:06:33.339666Z",
     "start_time": "2021-10-06T18:06:33.335126Z"
    }
   },
   "outputs": [],
   "source": [
    "series3"
   ]
  },
  {
   "cell_type": "code",
   "execution_count": null,
   "metadata": {
    "ExecuteTime": {
     "end_time": "2021-10-06T18:06:35.350138Z",
     "start_time": "2021-10-06T18:06:35.342565Z"
    }
   },
   "outputs": [],
   "source": [
    "df.sub(series3, axis=0)"
   ]
  },
  {
   "cell_type": "code",
   "execution_count": null,
   "metadata": {
    "ExecuteTime": {
     "end_time": "2021-10-06T18:07:02.490635Z",
     "start_time": "2021-10-06T18:07:02.469172Z"
    }
   },
   "outputs": [],
   "source": [
    "df.sub?"
   ]
  },
  {
   "cell_type": "markdown",
   "metadata": {},
   "source": [
    "# 1.2. Индексирование."
   ]
  },
  {
   "cell_type": "markdown",
   "metadata": {},
   "source": [
    "Для индекса pandas имеет отдельный тип объекта - index object."
   ]
  },
  {
   "cell_type": "code",
   "execution_count": null,
   "metadata": {
    "ExecuteTime": {
     "end_time": "2023-03-02T14:38:27.475120Z",
     "start_time": "2023-03-02T14:38:27.471614Z"
    }
   },
   "outputs": [],
   "source": [
    "s1 = pd.Series(range(3), index=['a', 'b', 'c'])"
   ]
  },
  {
   "cell_type": "code",
   "execution_count": null,
   "metadata": {
    "ExecuteTime": {
     "end_time": "2023-03-02T14:38:28.095431Z",
     "start_time": "2023-03-02T14:38:27.724870Z"
    }
   },
   "outputs": [],
   "source": [
    "s1"
   ]
  },
  {
   "cell_type": "code",
   "execution_count": null,
   "metadata": {
    "ExecuteTime": {
     "end_time": "2023-03-02T14:38:28.301583Z",
     "start_time": "2023-03-02T14:38:28.097441Z"
    }
   },
   "outputs": [],
   "source": [
    "index = s1.index"
   ]
  },
  {
   "cell_type": "code",
   "execution_count": null,
   "metadata": {
    "ExecuteTime": {
     "end_time": "2023-03-02T14:38:28.411402Z",
     "start_time": "2023-03-02T14:38:28.303700Z"
    }
   },
   "outputs": [],
   "source": [
    "index"
   ]
  },
  {
   "cell_type": "code",
   "execution_count": null,
   "metadata": {
    "ExecuteTime": {
     "end_time": "2023-03-02T14:38:28.876115Z",
     "start_time": "2023-03-02T14:38:28.872007Z"
    }
   },
   "outputs": [],
   "source": [
    "index[0]"
   ]
  },
  {
   "cell_type": "code",
   "execution_count": null,
   "metadata": {
    "ExecuteTime": {
     "end_time": "2023-03-02T14:38:29.165751Z",
     "start_time": "2023-03-02T14:38:29.161658Z"
    }
   },
   "outputs": [],
   "source": [
    "s2 = pd.Series([1.5, -2.5, 0], index=index)"
   ]
  },
  {
   "cell_type": "code",
   "execution_count": null,
   "metadata": {
    "ExecuteTime": {
     "end_time": "2023-03-02T14:38:29.515064Z",
     "start_time": "2023-03-02T14:38:29.510753Z"
    }
   },
   "outputs": [],
   "source": [
    "s2.index is s1.index"
   ]
  },
  {
   "cell_type": "code",
   "execution_count": null,
   "metadata": {
    "ExecuteTime": {
     "end_time": "2023-03-02T14:38:29.918600Z",
     "start_time": "2023-03-02T14:38:29.913830Z"
    }
   },
   "outputs": [],
   "source": [
    "index"
   ]
  },
  {
   "cell_type": "markdown",
   "metadata": {},
   "source": [
    "** Реиндексирование **"
   ]
  },
  {
   "cell_type": "code",
   "execution_count": null,
   "metadata": {
    "ExecuteTime": {
     "end_time": "2023-03-02T14:38:31.128972Z",
     "start_time": "2023-03-02T14:38:31.125848Z"
    }
   },
   "outputs": [],
   "source": [
    "ser3 = pd.Series([4.5, 7.2, -5.3, 3.6], index=['d', 'b', 'a', 'c'])"
   ]
  },
  {
   "cell_type": "code",
   "execution_count": null,
   "metadata": {
    "ExecuteTime": {
     "end_time": "2023-03-02T14:38:32.550820Z",
     "start_time": "2023-03-02T14:38:32.546837Z"
    }
   },
   "outputs": [],
   "source": [
    "ser3"
   ]
  },
  {
   "cell_type": "code",
   "execution_count": null,
   "metadata": {
    "ExecuteTime": {
     "end_time": "2023-03-02T14:38:32.782105Z",
     "start_time": "2023-03-02T14:38:32.778682Z"
    }
   },
   "outputs": [],
   "source": [
    "ser4 = ser3.reindex(['a', 'b', 'c', 'd', 'e'])"
   ]
  },
  {
   "cell_type": "code",
   "execution_count": null,
   "metadata": {
    "ExecuteTime": {
     "end_time": "2023-03-02T14:38:33.026490Z",
     "start_time": "2023-03-02T14:38:33.018002Z"
    }
   },
   "outputs": [],
   "source": [
    "ser4"
   ]
  },
  {
   "cell_type": "markdown",
   "metadata": {},
   "source": [
    "Столь же просто менять индекс объекта DataFrame:"
   ]
  },
  {
   "cell_type": "code",
   "execution_count": null,
   "metadata": {
    "ExecuteTime": {
     "end_time": "2023-03-02T14:38:33.368606Z",
     "start_time": "2023-03-02T14:38:33.365287Z"
    }
   },
   "outputs": [],
   "source": [
    "frame = pd.DataFrame(np.arange(9).reshape((3, 3)),\n",
    "                     index=['a', 'c', 'd'], \n",
    "                     columns=['Ohio', 'Texas', 'California'])"
   ]
  },
  {
   "cell_type": "code",
   "execution_count": null,
   "metadata": {
    "ExecuteTime": {
     "end_time": "2023-03-02T14:38:33.905012Z",
     "start_time": "2023-03-02T14:38:33.896478Z"
    }
   },
   "outputs": [],
   "source": [
    "frame"
   ]
  },
  {
   "cell_type": "code",
   "execution_count": null,
   "metadata": {
    "ExecuteTime": {
     "end_time": "2023-03-02T14:38:34.487960Z",
     "start_time": "2023-03-02T14:38:34.468421Z"
    }
   },
   "outputs": [],
   "source": [
    "frame2 = frame.reindex(index=['a', 'b', 'c', 'd'])"
   ]
  },
  {
   "cell_type": "code",
   "execution_count": null,
   "metadata": {
    "ExecuteTime": {
     "end_time": "2023-03-02T14:38:38.932757Z",
     "start_time": "2023-03-02T14:38:38.920830Z"
    }
   },
   "outputs": [],
   "source": [
    "frame2"
   ]
  },
  {
   "cell_type": "code",
   "execution_count": null,
   "metadata": {
    "ExecuteTime": {
     "end_time": "2023-03-02T14:38:39.677310Z",
     "start_time": "2023-03-02T14:38:39.673438Z"
    }
   },
   "outputs": [],
   "source": [
    "states = ['Texas', 'Utah', 'California']"
   ]
  },
  {
   "cell_type": "code",
   "execution_count": null,
   "metadata": {
    "ExecuteTime": {
     "end_time": "2021-10-06T18:08:34.261567Z",
     "start_time": "2021-10-06T18:08:34.254532Z"
    }
   },
   "outputs": [],
   "source": [
    "frame.reindex(columns=states)"
   ]
  },
  {
   "cell_type": "code",
   "execution_count": null,
   "metadata": {
    "ExecuteTime": {
     "end_time": "2021-10-06T18:09:00.674385Z",
     "start_time": "2021-10-06T18:09:00.669530Z"
    }
   },
   "outputs": [],
   "source": [
    "ser3[ser3 > 0]"
   ]
  },
  {
   "cell_type": "code",
   "execution_count": null,
   "metadata": {
    "ExecuteTime": {
     "end_time": "2021-10-06T18:09:34.483013Z",
     "start_time": "2021-10-06T18:09:34.476183Z"
    }
   },
   "outputs": [],
   "source": [
    "frame.rename(columns={'Texas': \"Moscow\"})"
   ]
  },
  {
   "cell_type": "markdown",
   "metadata": {},
   "source": [
    "# 1.3. Работа со столбцами."
   ]
  },
  {
   "cell_type": "code",
   "execution_count": 56,
   "metadata": {
    "ExecuteTime": {
     "end_time": "2023-03-02T18:10:33.031912Z",
     "start_time": "2023-03-02T18:10:33.028228Z"
    }
   },
   "outputs": [],
   "source": [
    "frame = pd.DataFrame(np.random.randn(4, 3), columns=list('bde'), \n",
    "                  index=['F', 'S', 'T', 'R'])"
   ]
  },
  {
   "cell_type": "code",
   "execution_count": 57,
   "metadata": {
    "ExecuteTime": {
     "end_time": "2023-03-02T18:10:33.641011Z",
     "start_time": "2023-03-02T18:10:33.632362Z"
    }
   },
   "outputs": [
    {
     "data": {
      "text/html": [
       "<div>\n",
       "<style scoped>\n",
       "    .dataframe tbody tr th:only-of-type {\n",
       "        vertical-align: middle;\n",
       "    }\n",
       "\n",
       "    .dataframe tbody tr th {\n",
       "        vertical-align: top;\n",
       "    }\n",
       "\n",
       "    .dataframe thead th {\n",
       "        text-align: right;\n",
       "    }\n",
       "</style>\n",
       "<table border=\"1\" class=\"dataframe\">\n",
       "  <thead>\n",
       "    <tr style=\"text-align: right;\">\n",
       "      <th></th>\n",
       "      <th>b</th>\n",
       "      <th>d</th>\n",
       "      <th>e</th>\n",
       "    </tr>\n",
       "  </thead>\n",
       "  <tbody>\n",
       "    <tr>\n",
       "      <th>F</th>\n",
       "      <td>-0.332022</td>\n",
       "      <td>0.275138</td>\n",
       "      <td>-0.191959</td>\n",
       "    </tr>\n",
       "    <tr>\n",
       "      <th>S</th>\n",
       "      <td>-0.083001</td>\n",
       "      <td>1.397656</td>\n",
       "      <td>1.056165</td>\n",
       "    </tr>\n",
       "    <tr>\n",
       "      <th>T</th>\n",
       "      <td>1.296860</td>\n",
       "      <td>0.021819</td>\n",
       "      <td>0.208576</td>\n",
       "    </tr>\n",
       "    <tr>\n",
       "      <th>R</th>\n",
       "      <td>0.273216</td>\n",
       "      <td>-0.514319</td>\n",
       "      <td>0.039102</td>\n",
       "    </tr>\n",
       "  </tbody>\n",
       "</table>\n",
       "</div>"
      ],
      "text/plain": [
       "          b         d         e\n",
       "F -0.332022  0.275138 -0.191959\n",
       "S -0.083001  1.397656  1.056165\n",
       "T  1.296860  0.021819  0.208576\n",
       "R  0.273216 -0.514319  0.039102"
      ]
     },
     "execution_count": 57,
     "metadata": {},
     "output_type": "execute_result"
    }
   ],
   "source": [
    "frame"
   ]
  },
  {
   "cell_type": "markdown",
   "metadata": {},
   "source": [
    "Как вы уже поняли, никаких проблем с функцией, которая работает в numpy поэлементно, у нас не возникнет:"
   ]
  },
  {
   "cell_type": "code",
   "execution_count": 58,
   "metadata": {
    "ExecuteTime": {
     "end_time": "2023-03-02T18:10:35.268723Z",
     "start_time": "2023-03-02T18:10:35.260094Z"
    }
   },
   "outputs": [
    {
     "data": {
      "text/html": [
       "<div>\n",
       "<style scoped>\n",
       "    .dataframe tbody tr th:only-of-type {\n",
       "        vertical-align: middle;\n",
       "    }\n",
       "\n",
       "    .dataframe tbody tr th {\n",
       "        vertical-align: top;\n",
       "    }\n",
       "\n",
       "    .dataframe thead th {\n",
       "        text-align: right;\n",
       "    }\n",
       "</style>\n",
       "<table border=\"1\" class=\"dataframe\">\n",
       "  <thead>\n",
       "    <tr style=\"text-align: right;\">\n",
       "      <th></th>\n",
       "      <th>b</th>\n",
       "      <th>d</th>\n",
       "      <th>e</th>\n",
       "    </tr>\n",
       "  </thead>\n",
       "  <tbody>\n",
       "    <tr>\n",
       "      <th>F</th>\n",
       "      <td>0.110239</td>\n",
       "      <td>0.075701</td>\n",
       "      <td>0.036848</td>\n",
       "    </tr>\n",
       "    <tr>\n",
       "      <th>S</th>\n",
       "      <td>0.006889</td>\n",
       "      <td>1.953442</td>\n",
       "      <td>1.115484</td>\n",
       "    </tr>\n",
       "    <tr>\n",
       "      <th>T</th>\n",
       "      <td>1.681846</td>\n",
       "      <td>0.000476</td>\n",
       "      <td>0.043504</td>\n",
       "    </tr>\n",
       "    <tr>\n",
       "      <th>R</th>\n",
       "      <td>0.074647</td>\n",
       "      <td>0.264524</td>\n",
       "      <td>0.001529</td>\n",
       "    </tr>\n",
       "  </tbody>\n",
       "</table>\n",
       "</div>"
      ],
      "text/plain": [
       "          b         d         e\n",
       "F  0.110239  0.075701  0.036848\n",
       "S  0.006889  1.953442  1.115484\n",
       "T  1.681846  0.000476  0.043504\n",
       "R  0.074647  0.264524  0.001529"
      ]
     },
     "execution_count": 58,
     "metadata": {},
     "output_type": "execute_result"
    }
   ],
   "source": [
    "np.power(frame, 2)"
   ]
  },
  {
   "cell_type": "markdown",
   "metadata": {},
   "source": [
    "Однако, чаще нам нужно применить функцию к какому либо столбцу - например, почитать абсолютное значение, сконвертировать из ts в datetime итд."
   ]
  },
  {
   "cell_type": "code",
   "execution_count": 59,
   "metadata": {
    "ExecuteTime": {
     "end_time": "2023-03-02T18:10:47.278205Z",
     "start_time": "2023-03-02T18:10:47.271142Z"
    }
   },
   "outputs": [
    {
     "data": {
      "text/html": [
       "<div>\n",
       "<style scoped>\n",
       "    .dataframe tbody tr th:only-of-type {\n",
       "        vertical-align: middle;\n",
       "    }\n",
       "\n",
       "    .dataframe tbody tr th {\n",
       "        vertical-align: top;\n",
       "    }\n",
       "\n",
       "    .dataframe thead th {\n",
       "        text-align: right;\n",
       "    }\n",
       "</style>\n",
       "<table border=\"1\" class=\"dataframe\">\n",
       "  <thead>\n",
       "    <tr style=\"text-align: right;\">\n",
       "      <th></th>\n",
       "      <th>b</th>\n",
       "      <th>d</th>\n",
       "      <th>e</th>\n",
       "    </tr>\n",
       "  </thead>\n",
       "  <tbody>\n",
       "    <tr>\n",
       "      <th>F</th>\n",
       "      <td>-0.332022</td>\n",
       "      <td>0.275138</td>\n",
       "      <td>-0.191959</td>\n",
       "    </tr>\n",
       "    <tr>\n",
       "      <th>S</th>\n",
       "      <td>-0.083001</td>\n",
       "      <td>1.397656</td>\n",
       "      <td>1.056165</td>\n",
       "    </tr>\n",
       "    <tr>\n",
       "      <th>T</th>\n",
       "      <td>1.296860</td>\n",
       "      <td>0.021819</td>\n",
       "      <td>0.208576</td>\n",
       "    </tr>\n",
       "    <tr>\n",
       "      <th>R</th>\n",
       "      <td>0.273216</td>\n",
       "      <td>-0.514319</td>\n",
       "      <td>0.039102</td>\n",
       "    </tr>\n",
       "  </tbody>\n",
       "</table>\n",
       "</div>"
      ],
      "text/plain": [
       "          b         d         e\n",
       "F -0.332022  0.275138 -0.191959\n",
       "S -0.083001  1.397656  1.056165\n",
       "T  1.296860  0.021819  0.208576\n",
       "R  0.273216 -0.514319  0.039102"
      ]
     },
     "execution_count": 59,
     "metadata": {},
     "output_type": "execute_result"
    }
   ],
   "source": [
    "frame"
   ]
  },
  {
   "cell_type": "code",
   "execution_count": 60,
   "metadata": {
    "ExecuteTime": {
     "end_time": "2023-03-02T18:10:48.136937Z",
     "start_time": "2023-03-02T18:10:48.134649Z"
    }
   },
   "outputs": [],
   "source": [
    "new_format = lambda x: '%.2f' % x"
   ]
  },
  {
   "cell_type": "code",
   "execution_count": 61,
   "metadata": {
    "ExecuteTime": {
     "end_time": "2023-03-02T18:10:49.162680Z",
     "start_time": "2023-03-02T18:10:49.134115Z"
    }
   },
   "outputs": [
    {
     "data": {
      "text/html": [
       "<div>\n",
       "<style scoped>\n",
       "    .dataframe tbody tr th:only-of-type {\n",
       "        vertical-align: middle;\n",
       "    }\n",
       "\n",
       "    .dataframe tbody tr th {\n",
       "        vertical-align: top;\n",
       "    }\n",
       "\n",
       "    .dataframe thead th {\n",
       "        text-align: right;\n",
       "    }\n",
       "</style>\n",
       "<table border=\"1\" class=\"dataframe\">\n",
       "  <thead>\n",
       "    <tr style=\"text-align: right;\">\n",
       "      <th></th>\n",
       "      <th>b</th>\n",
       "      <th>d</th>\n",
       "      <th>e</th>\n",
       "    </tr>\n",
       "  </thead>\n",
       "  <tbody>\n",
       "    <tr>\n",
       "      <th>F</th>\n",
       "      <td>-0.33</td>\n",
       "      <td>0.28</td>\n",
       "      <td>-0.19</td>\n",
       "    </tr>\n",
       "    <tr>\n",
       "      <th>S</th>\n",
       "      <td>-0.08</td>\n",
       "      <td>1.40</td>\n",
       "      <td>1.06</td>\n",
       "    </tr>\n",
       "    <tr>\n",
       "      <th>T</th>\n",
       "      <td>1.30</td>\n",
       "      <td>0.02</td>\n",
       "      <td>0.21</td>\n",
       "    </tr>\n",
       "    <tr>\n",
       "      <th>R</th>\n",
       "      <td>0.27</td>\n",
       "      <td>-0.51</td>\n",
       "      <td>0.04</td>\n",
       "    </tr>\n",
       "  </tbody>\n",
       "</table>\n",
       "</div>"
      ],
      "text/plain": [
       "       b      d      e\n",
       "F  -0.33   0.28  -0.19\n",
       "S  -0.08   1.40   1.06\n",
       "T   1.30   0.02   0.21\n",
       "R   0.27  -0.51   0.04"
      ]
     },
     "execution_count": 61,
     "metadata": {},
     "output_type": "execute_result"
    }
   ],
   "source": [
    "frame.applymap(new_format)"
   ]
  },
  {
   "cell_type": "markdown",
   "metadata": {},
   "source": [
    "Для Series метод назывется map()."
   ]
  },
  {
   "cell_type": "code",
   "execution_count": 62,
   "metadata": {
    "ExecuteTime": {
     "end_time": "2023-03-02T18:11:16.639662Z",
     "start_time": "2023-03-02T18:11:16.635643Z"
    }
   },
   "outputs": [],
   "source": [
    "frame['e'] = frame['e'].map(lambda x: x ** 2) "
   ]
  },
  {
   "cell_type": "code",
   "execution_count": 63,
   "metadata": {
    "ExecuteTime": {
     "end_time": "2023-03-02T18:11:17.277034Z",
     "start_time": "2023-03-02T18:11:17.273454Z"
    }
   },
   "outputs": [],
   "source": [
    "frame['e'] = frame['e'] ** 2"
   ]
  },
  {
   "cell_type": "code",
   "execution_count": 64,
   "metadata": {
    "ExecuteTime": {
     "end_time": "2023-03-02T18:11:24.430213Z",
     "start_time": "2023-03-02T18:11:24.424713Z"
    }
   },
   "outputs": [
    {
     "data": {
      "text/plain": [
       "F    0.001358\n",
       "S    1.244305\n",
       "T    0.001893\n",
       "R    0.000002\n",
       "Name: e, dtype: float64"
      ]
     },
     "execution_count": 64,
     "metadata": {},
     "output_type": "execute_result"
    }
   ],
   "source": [
    "frame[\"e\"]"
   ]
  },
  {
   "cell_type": "code",
   "execution_count": 65,
   "metadata": {
    "ExecuteTime": {
     "end_time": "2023-03-02T18:11:34.445441Z",
     "start_time": "2023-03-02T18:11:34.441986Z"
    }
   },
   "outputs": [],
   "source": [
    "frame['e'] = frame['e'].apply(lambda x: x ** 2) "
   ]
  },
  {
   "cell_type": "code",
   "execution_count": 66,
   "metadata": {
    "ExecuteTime": {
     "end_time": "2023-03-02T18:11:39.129665Z",
     "start_time": "2023-03-02T18:11:39.125104Z"
    }
   },
   "outputs": [
    {
     "data": {
      "text/plain": [
       "F    1.843617e-06\n",
       "S    1.548295e+00\n",
       "T    3.581951e-06\n",
       "R    5.465148e-12\n",
       "Name: e, dtype: float64"
      ]
     },
     "execution_count": 66,
     "metadata": {},
     "output_type": "execute_result"
    }
   ],
   "source": [
    "frame[\"e\"]"
   ]
  },
  {
   "cell_type": "markdown",
   "metadata": {},
   "source": [
    "Чтобы получить доступ к списку названий, достаточно обратиться к df.columns:"
   ]
  },
  {
   "cell_type": "code",
   "execution_count": null,
   "metadata": {
    "ExecuteTime": {
     "end_time": "2021-10-06T18:12:17.828344Z",
     "start_time": "2021-10-06T18:12:17.824706Z"
    }
   },
   "outputs": [],
   "source": [
    "frame.columns"
   ]
  },
  {
   "cell_type": "markdown",
   "metadata": {},
   "source": [
    "Также полезно следующее:"
   ]
  },
  {
   "cell_type": "code",
   "execution_count": null,
   "metadata": {
    "ExecuteTime": {
     "end_time": "2021-10-06T18:12:21.192255Z",
     "start_time": "2021-10-06T18:12:21.187962Z"
    }
   },
   "outputs": [],
   "source": [
    "df.dtypes"
   ]
  },
  {
   "cell_type": "markdown",
   "metadata": {},
   "source": [
    "Для сортировки по индексу стоит вызвать df.sort_index(), который возвращает копию исходного объекта:"
   ]
  },
  {
   "cell_type": "code",
   "execution_count": null,
   "metadata": {
    "ExecuteTime": {
     "end_time": "2021-10-06T18:12:31.004122Z",
     "start_time": "2021-10-06T18:12:30.996401Z"
    }
   },
   "outputs": [],
   "source": [
    "frame.sort_index()"
   ]
  },
  {
   "cell_type": "code",
   "execution_count": null,
   "metadata": {
    "ExecuteTime": {
     "end_time": "2021-10-06T18:12:56.404179Z",
     "start_time": "2021-10-06T18:12:56.396275Z"
    }
   },
   "outputs": [],
   "source": [
    "frame.sort_index(axis=1, ascending=False)"
   ]
  },
  {
   "cell_type": "markdown",
   "metadata": {},
   "source": [
    "Чтобы отсортировать по значению столбцов:"
   ]
  },
  {
   "cell_type": "code",
   "execution_count": null,
   "metadata": {
    "ExecuteTime": {
     "end_time": "2021-10-05T21:38:06.921903Z",
     "start_time": "2021-10-05T21:38:06.890707Z"
    }
   },
   "outputs": [],
   "source": [
    "frame.sort_index(by=['d', 'b'])"
   ]
  },
  {
   "cell_type": "code",
   "execution_count": null,
   "metadata": {
    "ExecuteTime": {
     "end_time": "2021-10-05T21:38:12.862482Z",
     "start_time": "2021-10-05T21:38:12.853483Z"
    }
   },
   "outputs": [],
   "source": [
    "frame.sort_values(by=['d', 'b'])"
   ]
  },
  {
   "cell_type": "markdown",
   "metadata": {},
   "source": [
    "Также значениям можно присвоить ранг:"
   ]
  },
  {
   "cell_type": "code",
   "execution_count": null,
   "metadata": {
    "ExecuteTime": {
     "end_time": "2022-03-09T18:07:34.519312Z",
     "start_time": "2022-03-09T18:07:34.514414Z"
    }
   },
   "outputs": [],
   "source": [
    "frame.info()"
   ]
  },
  {
   "cell_type": "code",
   "execution_count": null,
   "metadata": {
    "ExecuteTime": {
     "end_time": "2022-03-09T18:07:35.750433Z",
     "start_time": "2022-03-09T18:07:35.736255Z"
    }
   },
   "outputs": [],
   "source": [
    "frame.describe()"
   ]
  },
  {
   "cell_type": "markdown",
   "metadata": {},
   "source": [
    "# 1.4. File I/O."
   ]
  },
  {
   "cell_type": "markdown",
   "metadata": {},
   "source": [
    "http://pandas.pydata.org/pandas-docs/stable/io.html"
   ]
  },
  {
   "cell_type": "markdown",
   "metadata": {},
   "source": [
    "Как видно из оффициальной документации (выше), в качестве входного формата могут использоваться следующие:\n",
    "* read_csv\n",
    "* read_excel\n",
    "* read_hdf\n",
    "* read_sql\n",
    "* read_json\n",
    "* read_msgpack (experimental)\n",
    "* read_html\n",
    "* read_gbq (experimental)\n",
    "* read_stata\n",
    "* read_sas\n",
    "* read_clipboard\n",
    "* read_pickle\n",
    "\n",
    "Каждый из них снабжен \"зеркальным\" методом \"to\".\n",
    "\n",
    "Думаю, что чаще всего вас придется пользоваться методом \"read_csv\". Подробная сигнатура:"
   ]
  },
  {
   "cell_type": "code",
   "execution_count": 67,
   "metadata": {
    "ExecuteTime": {
     "end_time": "2023-03-02T18:11:59.679458Z",
     "start_time": "2023-03-02T18:11:59.632773Z"
    }
   },
   "outputs": [],
   "source": [
    "pd.read_csv?"
   ]
  },
  {
   "cell_type": "code",
   "execution_count": null,
   "metadata": {},
   "outputs": [],
   "source": [
    "pd.read_excel()"
   ]
  },
  {
   "cell_type": "code",
   "execution_count": 68,
   "metadata": {
    "ExecuteTime": {
     "end_time": "2023-03-02T18:12:24.293746Z",
     "start_time": "2023-03-02T18:12:24.286648Z"
    }
   },
   "outputs": [
    {
     "data": {
      "text/html": [
       "<div>\n",
       "<style scoped>\n",
       "    .dataframe tbody tr th:only-of-type {\n",
       "        vertical-align: middle;\n",
       "    }\n",
       "\n",
       "    .dataframe tbody tr th {\n",
       "        vertical-align: top;\n",
       "    }\n",
       "\n",
       "    .dataframe thead th {\n",
       "        text-align: right;\n",
       "    }\n",
       "</style>\n",
       "<table border=\"1\" class=\"dataframe\">\n",
       "  <thead>\n",
       "    <tr style=\"text-align: right;\">\n",
       "      <th></th>\n",
       "      <th>b</th>\n",
       "      <th>d</th>\n",
       "      <th>e</th>\n",
       "    </tr>\n",
       "  </thead>\n",
       "  <tbody>\n",
       "    <tr>\n",
       "      <th>F</th>\n",
       "      <td>-0.332022</td>\n",
       "      <td>0.275138</td>\n",
       "      <td>1.843617e-06</td>\n",
       "    </tr>\n",
       "    <tr>\n",
       "      <th>S</th>\n",
       "      <td>-0.083001</td>\n",
       "      <td>1.397656</td>\n",
       "      <td>1.548295e+00</td>\n",
       "    </tr>\n",
       "    <tr>\n",
       "      <th>T</th>\n",
       "      <td>1.296860</td>\n",
       "      <td>0.021819</td>\n",
       "      <td>3.581951e-06</td>\n",
       "    </tr>\n",
       "    <tr>\n",
       "      <th>R</th>\n",
       "      <td>0.273216</td>\n",
       "      <td>-0.514319</td>\n",
       "      <td>5.465148e-12</td>\n",
       "    </tr>\n",
       "  </tbody>\n",
       "</table>\n",
       "</div>"
      ],
      "text/plain": [
       "          b         d             e\n",
       "F -0.332022  0.275138  1.843617e-06\n",
       "S -0.083001  1.397656  1.548295e+00\n",
       "T  1.296860  0.021819  3.581951e-06\n",
       "R  0.273216 -0.514319  5.465148e-12"
      ]
     },
     "execution_count": 68,
     "metadata": {},
     "output_type": "execute_result"
    }
   ],
   "source": [
    "frame"
   ]
  },
  {
   "cell_type": "code",
   "execution_count": 69,
   "metadata": {
    "ExecuteTime": {
     "end_time": "2023-03-02T18:12:26.747769Z",
     "start_time": "2023-03-02T18:12:26.268472Z"
    }
   },
   "outputs": [
    {
     "name": "stdout",
     "output_type": "stream",
     "text": [
      "Black_man.txt    matplotlib.ipynb  random1234.npy  random.npy\r\n",
      "frame123.csv.gz  numpy.ipynb       random123.npy   random_txt.csv\r\n",
      "HW1.ipynb        pandas.ipynb      random.csv\r\n"
     ]
    }
   ],
   "source": [
    "ls"
   ]
  },
  {
   "cell_type": "code",
   "execution_count": 70,
   "metadata": {
    "ExecuteTime": {
     "end_time": "2023-03-02T18:12:37.018372Z",
     "start_time": "2023-03-02T18:12:36.996269Z"
    }
   },
   "outputs": [],
   "source": [
    "frame.to_csv(\"frame1234.csv.gz\", sep=\"\\t\", encoding=\"utf-8\", compression=\"gzip\")"
   ]
  },
  {
   "cell_type": "code",
   "execution_count": 74,
   "metadata": {
    "ExecuteTime": {
     "end_time": "2023-03-02T18:13:28.477495Z",
     "start_time": "2023-03-02T18:13:28.462086Z"
    }
   },
   "outputs": [],
   "source": [
    "frame = pd.read_csv(\"frame1234.csv.gz\", sep=\"\\t\")"
   ]
  },
  {
   "cell_type": "code",
   "execution_count": 72,
   "metadata": {
    "ExecuteTime": {
     "end_time": "2023-03-02T18:12:54.043395Z",
     "start_time": "2023-03-02T18:12:54.035495Z"
    }
   },
   "outputs": [
    {
     "data": {
      "text/html": [
       "<div>\n",
       "<style scoped>\n",
       "    .dataframe tbody tr th:only-of-type {\n",
       "        vertical-align: middle;\n",
       "    }\n",
       "\n",
       "    .dataframe tbody tr th {\n",
       "        vertical-align: top;\n",
       "    }\n",
       "\n",
       "    .dataframe thead th {\n",
       "        text-align: right;\n",
       "    }\n",
       "</style>\n",
       "<table border=\"1\" class=\"dataframe\">\n",
       "  <thead>\n",
       "    <tr style=\"text-align: right;\">\n",
       "      <th></th>\n",
       "      <th>Unnamed: 0</th>\n",
       "      <th>b</th>\n",
       "      <th>d</th>\n",
       "      <th>e</th>\n",
       "    </tr>\n",
       "  </thead>\n",
       "  <tbody>\n",
       "    <tr>\n",
       "      <th>0</th>\n",
       "      <td>F</td>\n",
       "      <td>-0.332022</td>\n",
       "      <td>0.275138</td>\n",
       "      <td>1.843617e-06</td>\n",
       "    </tr>\n",
       "    <tr>\n",
       "      <th>1</th>\n",
       "      <td>S</td>\n",
       "      <td>-0.083001</td>\n",
       "      <td>1.397656</td>\n",
       "      <td>1.548295e+00</td>\n",
       "    </tr>\n",
       "    <tr>\n",
       "      <th>2</th>\n",
       "      <td>T</td>\n",
       "      <td>1.296860</td>\n",
       "      <td>0.021819</td>\n",
       "      <td>3.581951e-06</td>\n",
       "    </tr>\n",
       "    <tr>\n",
       "      <th>3</th>\n",
       "      <td>R</td>\n",
       "      <td>0.273216</td>\n",
       "      <td>-0.514319</td>\n",
       "      <td>5.465148e-12</td>\n",
       "    </tr>\n",
       "  </tbody>\n",
       "</table>\n",
       "</div>"
      ],
      "text/plain": [
       "  Unnamed: 0         b         d             e\n",
       "0          F -0.332022  0.275138  1.843617e-06\n",
       "1          S -0.083001  1.397656  1.548295e+00\n",
       "2          T  1.296860  0.021819  3.581951e-06\n",
       "3          R  0.273216 -0.514319  5.465148e-12"
      ]
     },
     "execution_count": 72,
     "metadata": {},
     "output_type": "execute_result"
    }
   ],
   "source": [
    "frame"
   ]
  },
  {
   "cell_type": "code",
   "execution_count": null,
   "metadata": {},
   "outputs": [],
   "source": []
  },
  {
   "cell_type": "code",
   "execution_count": null,
   "metadata": {},
   "outputs": [],
   "source": []
  },
  {
   "cell_type": "code",
   "execution_count": null,
   "metadata": {
    "ExecuteTime": {
     "end_time": "2022-03-09T18:09:05.022490Z",
     "start_time": "2022-03-09T18:09:04.530193Z"
    }
   },
   "outputs": [],
   "source": [
    "!ls"
   ]
  },
  {
   "cell_type": "code",
   "execution_count": null,
   "metadata": {
    "ExecuteTime": {
     "end_time": "2022-03-09T18:09:13.733294Z",
     "start_time": "2022-03-09T18:09:13.279719Z"
    }
   },
   "outputs": [],
   "source": [
    "!zcat frame123.csv.gz"
   ]
  },
  {
   "cell_type": "code",
   "execution_count": null,
   "metadata": {
    "ExecuteTime": {
     "end_time": "2021-10-06T18:17:19.827327Z",
     "start_time": "2021-10-06T18:17:19.821252Z"
    }
   },
   "outputs": [],
   "source": [
    "frame.head(1)"
   ]
  },
  {
   "cell_type": "code",
   "execution_count": null,
   "metadata": {
    "ExecuteTime": {
     "end_time": "2021-10-06T18:17:28.214368Z",
     "start_time": "2021-10-06T18:17:28.210564Z"
    }
   },
   "outputs": [],
   "source": [
    "frame.columns"
   ]
  },
  {
   "cell_type": "code",
   "execution_count": null,
   "metadata": {
    "ExecuteTime": {
     "end_time": "2021-10-06T18:17:32.633631Z",
     "start_time": "2021-10-06T18:17:32.626701Z"
    }
   },
   "outputs": [],
   "source": [
    "frame"
   ]
  },
  {
   "cell_type": "code",
   "execution_count": null,
   "metadata": {
    "ExecuteTime": {
     "end_time": "2021-10-06T18:17:36.209761Z",
     "start_time": "2021-10-06T18:17:36.205285Z"
    }
   },
   "outputs": [],
   "source": [
    "frame.get_dtype_counts()"
   ]
  },
  {
   "cell_type": "code",
   "execution_count": null,
   "metadata": {
    "ExecuteTime": {
     "end_time": "2021-10-06T18:17:50.333242Z",
     "start_time": "2021-10-06T18:17:50.327742Z"
    }
   },
   "outputs": [],
   "source": [
    "frame[\"b\"].value_counts()"
   ]
  },
  {
   "cell_type": "code",
   "execution_count": null,
   "metadata": {
    "ExecuteTime": {
     "end_time": "2021-10-06T18:18:10.571084Z",
     "start_time": "2021-10-06T18:18:10.562522Z"
    }
   },
   "outputs": [],
   "source": [
    "frame.values"
   ]
  },
  {
   "cell_type": "code",
   "execution_count": null,
   "metadata": {},
   "outputs": [],
   "source": []
  },
  {
   "cell_type": "code",
   "execution_count": null,
   "metadata": {},
   "outputs": [],
   "source": []
  },
  {
   "cell_type": "code",
   "execution_count": null,
   "metadata": {},
   "outputs": [],
   "source": []
  }
 ],
 "metadata": {
  "kernelspec": {
   "display_name": "Python 3",
   "language": "python",
   "name": "python3"
  },
  "language_info": {
   "codemirror_mode": {
    "name": "ipython",
    "version": 3
   },
   "file_extension": ".py",
   "mimetype": "text/x-python",
   "name": "python",
   "nbconvert_exporter": "python",
   "pygments_lexer": "ipython3",
   "version": "3.7.3"
  },
  "toc": {
   "base_numbering": 1,
   "nav_menu": {
    "height": "123px",
    "width": "252px"
   },
   "number_sections": true,
   "sideBar": true,
   "skip_h1_title": false,
   "title_cell": "Table of Contents",
   "title_sidebar": "Contents",
   "toc_cell": true,
   "toc_position": {},
   "toc_section_display": "block",
   "toc_window_display": false
  }
 },
 "nbformat": 4,
 "nbformat_minor": 4
}
